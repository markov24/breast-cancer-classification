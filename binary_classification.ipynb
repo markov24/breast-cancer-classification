{
 "cells": [
  {
   "attachments": {},
   "cell_type": "markdown",
   "metadata": {},
   "source": [
    "# Imports"
   ]
  },
  {
   "cell_type": "code",
   "execution_count": 1,
   "metadata": {},
   "outputs": [],
   "source": [
    "import numpy as np\n",
    "%matplotlib inline\n",
    "import matplotlib.pyplot as plt\n",
    "from data import build_features as bf\n",
    "from data import process_data as pd\n",
    "from learning_library import logistic_regression as lr"
   ]
  },
  {
   "attachments": {},
   "cell_type": "markdown",
   "metadata": {},
   "source": [
    "# Tumor Radius"
   ]
  },
  {
   "attachments": {},
   "cell_type": "markdown",
   "metadata": {},
   "source": [
    "### Visualization"
   ]
  },
  {
   "cell_type": "code",
   "execution_count": 2,
   "metadata": {},
   "outputs": [
    {
     "data": {
      "text/plain": [
       "Text(0, 0.5, '0 - benign      1 - malignant')"
      ]
     },
     "execution_count": 2,
     "metadata": {},
     "output_type": "execute_result"
    },
    {
     "data": {
      "image/png": "[encoded data removed]",
      "text/plain": [
       "<Figure size 640x480 with 1 Axes>"
      ]
     },
     "metadata": {},
     "output_type": "display_data"
    }
   ],
   "source": [
    "# Obtain X and y data as numpy arrays\n",
    "X, y = pd.generate_data()\n",
    "\n",
    "# Plot first feature - tumor radius\n",
    "plt.scatter(X[:, 0], y)\n",
    "plt.xlabel(\"Tumor Radius (mm)\")\n",
    "plt.ylabel(\"0 - benign      1 - malignant\")"
   ]
  },
  {
   "attachments": {},
   "cell_type": "markdown",
   "metadata": {},
   "source": [
    "Here we can observe that tumors with a larger radius are more likely to be malignant. However, there's many tumors within the 12-15mm region that are both benign and malignant. We can thus proceed with a logistic regression model based on just the tumor radius and see how it performs."
   ]
  },
  {
   "attachments": {},
   "cell_type": "markdown",
   "metadata": {},
   "source": [
    "### Training"
   ]
  },
  {
   "cell_type": "code",
   "execution_count": 10,
   "metadata": {},
   "outputs": [
    {
     "name": "stdout",
     "output_type": "stream",
     "text": [
      "(array([[ 1.08659185, -2.08493813],\n",
      "       [ 1.82885024, -0.30747058],\n",
      "       [ 1.57567684,  0.52955068],\n",
      "       ...,\n",
      "       [ 0.35871832,  1.17896372],\n",
      "       [-0.71151469, -1.0482825 ],\n",
      "       [ 0.17171524, -1.04587726]]), array([14.21313867, 19.04833984]), array([3.47587856, 4.15760051]))\n"
     ]
    },
    {
     "ename": "AttributeError",
     "evalue": "'tuple' object has no attribute 'shape'",
     "output_type": "error",
     "traceback": [
      "\u001b[1;31m---------------------------------------------------------------------------\u001b[0m",
      "\u001b[1;31mAttributeError\u001b[0m                            Traceback (most recent call last)",
      "Cell \u001b[1;32mIn[10], line 4\u001b[0m\n\u001b[0;32m      2\u001b[0m X_train, X_test, y_train, y_test \u001b[39m=\u001b[39m bf\u001b[39m.\u001b[39mtraining_data(X, y, \u001b[39m2\u001b[39m)\n\u001b[0;32m      3\u001b[0m \u001b[39mprint\u001b[39m(X_train)\n\u001b[1;32m----> 4\u001b[0m \u001b[39mprint\u001b[39m(X_train\u001b[39m.\u001b[39;49mshape)\n\u001b[0;32m      5\u001b[0m w_vec, b \u001b[39m=\u001b[39m lr\u001b[39m.\u001b[39mgradient_descent(\u001b[39m1000\u001b[39m, X_train, y_train, \u001b[39m0.5\u001b[39m, \u001b[39m0\u001b[39m)\n",
      "\u001b[1;31mAttributeError\u001b[0m: 'tuple' object has no attribute 'shape'"
     ]
    }
   ],
   "source": [
    "# To start, we obtain the default 90% train/test split of our data\n",
    "X_train, X_test, y_train, y_test = bf.training_data(X, y, 2)\n",
    "X_train = np.array(X_train)\n",
    "print(X_train)\n",
    "print(X_train.shape)\n",
    "w_vec, b = lr.gradient_descent(1000, X_train, y_train, 0.5, 0)"
   ]
  }
 ],
 "metadata": {
  "kernelspec": {
   "display_name": "Python 3",
   "language": "python",
   "name": "python3"
  },
  "language_info": {
   "codemirror_mode": {
    "name": "ipython",
    "version": 3
   },
   "file_extension": ".py",
   "mimetype": "text/x-python",
   "name": "python",
   "nbconvert_exporter": "python",
   "pygments_lexer": "ipython3",
   "version": "3.11.0"
  },
  "orig_nbformat": 4,
  "vscode": {
   "interpreter": {
    "hash": "b5dac655300c9ceab6ca5a937492f3f64b327ea7a7f32eda1b5b34b1996d153c"
   }
  }
 },
 "nbformat": 4,
 "nbformat_minor": 2
}
